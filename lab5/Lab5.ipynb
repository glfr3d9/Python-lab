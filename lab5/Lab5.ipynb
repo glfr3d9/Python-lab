{
 "cells": [
  {
   "cell_type": "markdown",
   "metadata": {
    "id": "WPvB9TcMmKA6"
   },
   "source": [
    "# Лабораторная работа №5\n",
    "# Рекурсия. Фракталы."
   ]
  },
  {
   "cell_type": "markdown",
   "metadata": {
    "id": "96Gi_LEvmSVH"
   },
   "source": [
    "## Выполнила студентка группы Фролова Алена Денисована БСТ2004\n",
    "\n",
    "***"
   ]
  },
  {
   "cell_type": "markdown",
   "metadata": {
    "id": "4clYOyb0mbEv"
   },
   "source": [
    "### Задание:\n",
    "Реализовать генерацию заданного типа фрактала с применением рекурсивных функций.\n",
    "\n",
    "\n",
    "Добавить возможность задания глубины фрактала. \n",
    "\n",
    "\n",
    "Оценить глубину рекурсии. \n",
    "\n",
    "\n",
    "Построить таблицу зависимости времени построения от глубины фрактала."
   ]
  },
  {
   "cell_type": "markdown",
   "metadata": {
    "id": "wDXHbUmMmhRL"
   },
   "source": [
    "### Варианты заданий:\n",
    "\n",
    "Вариант | Задание\n",
    ":-------- |:-----\n",
    "1, 7, 13, 19, 25 | Кривая Коха\n",
    "2, 8, 14, 20, 26 | Кривая Гильберта\n",
    "3, 9,15,21,27 | Кривая Серпинского\n",
    "4, 10, 16, 22, 28 | Салфетка Серпинского\n",
    "5, 11, 17, 23, 29| Ковер Серпинского\n",
    "6, 12, 18, 24, 30 | Дерево Пифагора \n"
   ]
  },
  {
   "cell_type": "markdown",
   "metadata": {
    "id": "Wggfn8l7nG72"
   },
   "source": [
    "### Выполнение:"
   ]
  },
  {
   "cell_type": "code",
   "execution_count": 7,
   "metadata": {},
   "outputs": [],
   "source": [
    "import time\n",
    "import turtle"
   ]
  },
  {
   "cell_type": "code",
   "execution_count": 9,
   "metadata": {
    "id": "681a95mZnOSa"
   },
   "outputs": [
    {
     "name": "stdout",
     "output_type": "stream",
     "text": [
      "Глубина фрактала: 3\n",
      "Глубина рекурсии  Глубина фрактала   Время\n",
      "64      0       13.109022617340088\n",
      "128      1       13.112882375717163\n",
      "192      2       13.07865023612976\n"
     ]
    }
   ],
   "source": [
    "cnt = 0\n",
    "def hilbert(level, angle, step):\n",
    "\n",
    "    global cnt    \n",
    "\n",
    "    if level == 0:\n",
    "        cnt+=1\n",
    "        return\n",
    "  \n",
    "    turtle.right(angle)\n",
    "    hilbert(level-1, -angle, step)\n",
    "  \n",
    "    turtle.forward(step)\n",
    "    turtle.left(angle)\n",
    "    hilbert(level-1, angle, step)\n",
    "  \n",
    "    turtle.forward(step)\n",
    "    hilbert(level-1, angle, step)\n",
    "  \n",
    "    turtle.left(angle)\n",
    "    turtle.forward(step)\n",
    "    hilbert(level-1, -angle, step)\n",
    "    turtle.right(angle)\n",
    "\n",
    "\n",
    "level = int(input(\"Глубина фрактала: \"))\n",
    "print(f\"Глубина рекурсии  Глубина фрактала   Время\")\n",
    "for i in range (level):\n",
    "    size = 200\n",
    "    turtle.penup()\n",
    "    turtle.goto(-size / 2.0, size / 2.0)\n",
    "    turtle.pendown()\n",
    "    time_t = time.time()\n",
    "    hilbert(level, 90, size/(2**level-1))\n",
    "    turtle.clear()\n",
    "    print(cnt, \"    \", i , \"     \",time.time() - time_t)\n",
    "    #done()"
   ]
  },
  {
   "cell_type": "markdown",
   "metadata": {},
   "source": [
    "## "
   ]
  },
  {
   "cell_type": "markdown",
   "metadata": {
    "id": "diOb-K7LnO5a"
   },
   "source": [
    "### Вывод"
   ]
  }
 ],
 "metadata": {
  "colab": {
   "collapsed_sections": [],
   "name": "Lab5.ipynb",
   "provenance": []
  },
  "kernelspec": {
   "display_name": "Python 3 (ipykernel)",
   "language": "python",
   "name": "python3"
  },
  "language_info": {
   "codemirror_mode": {
    "name": "ipython",
    "version": 3
   },
   "file_extension": ".py",
   "mimetype": "text/x-python",
   "name": "python",
   "nbconvert_exporter": "python",
   "pygments_lexer": "ipython3",
   "version": "3.10.0"
  }
 },
 "nbformat": 4,
 "nbformat_minor": 1
}
